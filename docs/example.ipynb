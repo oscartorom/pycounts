{
    "cells": [
        {
            "cell_type": "markdown",
            "metadata": {},
            "source": [
                "# Example usage\n",
                "\n",
                "To use `pycounts` in a project:"
            ]
        },
        {
            "cell_type": "code",
            "execution_count": 1,
            "metadata": {},
            "outputs": [
                {
                    "name": "stdout",
                    "output_type": "stream",
                    "text": [
                        "0.1.0\n"
                    ]
                }
            ],
            "source": [
                "import pycounts\n",
                "\n",
                "print(pycounts.__version__)"
            ]
        },
        {
            "cell_type": "code",
            "execution_count": 2,
            "metadata": {},
            "outputs": [],
            "source": [
                "from pycounts.pycounts import count_words\n",
                "from pycounts.plotting import plot_words"
            ]
        },
        {
            "cell_type": "markdown",
            "metadata": {},
            "source": [
                "# Create a text file\n",
                "\n",
                "We'll first create a text file to work with using a famous quote from Einstein"
            ]
        },
        {
            "cell_type": "code",
            "execution_count": null,
            "metadata": {},
            "outputs": [],
            "source": [
                "quote = \"\"\"Insanity is doing the same thing\n",
                "over and over and expecting different results.\"\"\"\n",
                "with open(\"einstein.txt\", \"w\") as file:\n",
                "    file.write(quote)\n",
                "    "
            ]
        }
    ],
    "metadata": {
        "kernelspec": {
            "display_name": "Python 3.9.13 ('pycounts')",
            "language": "python",
            "name": "python3"
        },
        "language_info": {
            "codemirror_mode": {
                "name": "ipython",
                "version": 3
            },
            "file_extension": ".py",
            "mimetype": "text/x-python",
            "name": "python",
            "nbconvert_exporter": "python",
            "pygments_lexer": "ipython3",
            "version": "3.9.13"
        },
        "vscode": {
            "interpreter": {
                "hash": "0a2b4bfc0f6f608a079b081f0b24f746eb5f9fd11ec52da87f48dbc10f896f1a"
            }
        }
    },
    "nbformat": 4,
    "nbformat_minor": 4
}
